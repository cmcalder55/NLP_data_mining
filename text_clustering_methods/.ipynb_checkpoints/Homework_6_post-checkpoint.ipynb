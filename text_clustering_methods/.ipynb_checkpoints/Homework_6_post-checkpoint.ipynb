{
 "cells": [
  {
   "cell_type": "markdown",
   "metadata": {},
   "source": [
    "# HW 6: Clustering, Topic Modeling, Word Vectors"
   ]
  },
  {
   "cell_type": "markdown",
   "metadata": {},
   "source": [
    "In this assignment, you'll practice different text clustering methods. For unsupervised learning, we have a training set of text, and a testing set with labels. \n",
    "\n",
    "Sample outputs have been provided to you. Due to randomness, you may not get the same result as shown here. Your taget is to achieve about 70% F1 for the test dataset"
   ]
  },
  {
   "cell_type": "markdown",
   "metadata": {},
   "source": [
    "## Q1: K-Mean Clustering \n",
    "\n",
    "Define a function `cluster_kmean(train_text, test_text, text_label)` as follows:\n",
    "- Take three inputs: \n",
    "    - `train_text` is a list of documents for traing \n",
    "    - `test_text` is a list of documents for test\n",
    "    - `test_label` is the labels corresponding to documents in `test_text` \n",
    "- First generate `TFIDF` weights. You need to decide appropriate values for parameters such as `stopwords` and `min_df`:\n",
    "    - Keep or remove stopwords? Customized stop words? \n",
    "    - Set appropriate `min_df` to filter infrequent words\n",
    "- Use `KMeans` to cluster documents in `train_text` into 4 clusters. Here you need to decide the following parameters:\n",
    "    \n",
    "    - Distance measure: `cosine similarity`  or `Euclidean distance`? Pick the one which gives you better performance.  \n",
    "    - When clustering, be sure to  use sufficient iterations with different initial centroids to make sure clustering converge.\n",
    "- Test the clustering model performance using `test_label` as follows: \n",
    "  - Predict the cluster ID for each document in `test_text`.\n",
    "  - Apply `majority vote` rule to dynamically map the predicted cluster IDs to `test_label`. Note, you'd better not hardcode the mapping, because cluster IDs may be assigned differently in each run. (hint: if you use pandas, look for `idxmax` function).\n",
    "  - print out the classification report for the test subset \n",
    "  \n",
    "  \n",
    "- This function has no return. Print out the classification report. \n",
    "\n",
    "\n",
    "- Briefly discuss the following questions. \n",
    "    - What preprocessing parameters are better and why.\n",
    "    - Which distance measure is better and why it is better. \n",
    "    - Could you assign a meaningful name to each cluster? Discuss how you interpret each cluster.\n"
   ]
  },
  {
   "cell_type": "code",
   "execution_count": 5,
   "metadata": {},
   "outputs": [],
   "source": [
    "# Add your import statement\n",
    "\n",
    "import pandas as pd\n",
    "import numpy as np\n",
    "from sklearn.feature_extraction.text import TfidfVectorizer\n",
    "from sklearn import metrics\n",
    "from nltk.corpus import stopwords\n",
    "from nltk.cluster import KMeansClusterer,cosine_distance,euclidean_distance\n",
    "from sklearn import mixture\n",
    "from sklearn.feature_extraction.text import CountVectorizer\n",
    "from sklearn.decomposition import LatentDirichletAllocation\n",
    "\n",
    "from matplotlib import pyplot as plt\n",
    "import seaborn as sns\n"
   ]
  },
  {
   "cell_type": "code",
   "execution_count": 20,
   "metadata": {},
   "outputs": [
    {
     "data": {
      "text/html": [
       "<div>\n",
       "<style scoped>\n",
       "    .dataframe tbody tr th:only-of-type {\n",
       "        vertical-align: middle;\n",
       "    }\n",
       "\n",
       "    .dataframe tbody tr th {\n",
       "        vertical-align: top;\n",
       "    }\n",
       "\n",
       "    .dataframe thead th {\n",
       "        text-align: right;\n",
       "    }\n",
       "</style>\n",
       "<table border=\"1\" class=\"dataframe\">\n",
       "  <thead>\n",
       "    <tr style=\"text-align: right;\">\n",
       "      <th></th>\n",
       "      <th>text</th>\n",
       "    </tr>\n",
       "  </thead>\n",
       "  <tbody>\n",
       "    <tr>\n",
       "      <th>0</th>\n",
       "      <td>Would you rather get a gift that you knew what...</td>\n",
       "    </tr>\n",
       "    <tr>\n",
       "      <th>1</th>\n",
       "      <td>Is the internet ruining people's ability to co...</td>\n",
       "    </tr>\n",
       "    <tr>\n",
       "      <th>2</th>\n",
       "      <td>Permanganate?\\nSuppose permanganate was used t...</td>\n",
       "    </tr>\n",
       "    <tr>\n",
       "      <th>3</th>\n",
       "      <td>If Rock-n-Roll is really the work of the devil...</td>\n",
       "    </tr>\n",
       "    <tr>\n",
       "      <th>4</th>\n",
       "      <td>Has anyone purchased software to watch TV on y...</td>\n",
       "    </tr>\n",
       "    <tr>\n",
       "      <th>...</th>\n",
       "      <td>...</td>\n",
       "    </tr>\n",
       "    <tr>\n",
       "      <th>3995</th>\n",
       "      <td>help !! anyone know anything about the conditi...</td>\n",
       "    </tr>\n",
       "    <tr>\n",
       "      <th>3996</th>\n",
       "      <td>when was Helen of Troy born?\\n\\nShe is a mytho...</td>\n",
       "    </tr>\n",
       "    <tr>\n",
       "      <th>3997</th>\n",
       "      <td>Will Energy be available easly to every one on...</td>\n",
       "    </tr>\n",
       "    <tr>\n",
       "      <th>3998</th>\n",
       "      <td>how does credit card missuse takes place &amp; how...</td>\n",
       "    </tr>\n",
       "    <tr>\n",
       "      <th>3999</th>\n",
       "      <td>How many of us are on here not for answers per...</td>\n",
       "    </tr>\n",
       "  </tbody>\n",
       "</table>\n",
       "<p>4000 rows × 1 columns</p>\n",
       "</div>"
      ],
      "text/plain": [
       "                                                   text\n",
       "0     Would you rather get a gift that you knew what...\n",
       "1     Is the internet ruining people's ability to co...\n",
       "2     Permanganate?\\nSuppose permanganate was used t...\n",
       "3     If Rock-n-Roll is really the work of the devil...\n",
       "4     Has anyone purchased software to watch TV on y...\n",
       "...                                                 ...\n",
       "3995  help !! anyone know anything about the conditi...\n",
       "3996  when was Helen of Troy born?\\n\\nShe is a mytho...\n",
       "3997  Will Energy be available easly to every one on...\n",
       "3998  how does credit card missuse takes place & how...\n",
       "3999  How many of us are on here not for answers per...\n",
       "\n",
       "[4000 rows x 1 columns]"
      ]
     },
     "execution_count": 20,
     "metadata": {},
     "output_type": "execute_result"
    }
   ],
   "source": [
    "train = pd.read_csv(\"hw6_train.csv\")\n",
    "train_text=train[\"text\"]\n",
    "\n",
    "test = pd.read_csv(\"hw6_test.csv\")\n",
    "test_label = test[\"label\"]\n",
    "test_text = test[\"text\"]\n",
    "\n",
    "train"
   ]
  },
  {
   "cell_type": "code",
   "execution_count": 13,
   "metadata": {},
   "outputs": [],
   "source": [
    "def all_stop_list(additional):\n",
    "    # create an instance of the CountVectorizer class with stop words\n",
    "    vectorizer = CountVectorizer(stop_words='english')\n",
    "\n",
    "    # get the most common English stop words and combine with add. words into a dict\n",
    "    defaults = set(stopwords.words('english'))\n",
    "    all_stop_words = defaults.union(additional)\n",
    "    stop_dict = dict.fromkeys(all_stop_words, 1)\n",
    "    \n",
    "    return list(stop_dict.keys())\n"
   ]
  },
  {
   "cell_type": "code",
   "execution_count": 8,
   "metadata": {},
   "outputs": [],
   "source": [
    "def cluster_kmean(train_text, test_text, test_label):\n",
    "    # remove new line chars to prevent tokenization errors\n",
    "    train_text = train_text.apply(lambda doc: ' '.join(' '.join(doc.split('\\n')).split('\\\\n')))\n",
    "    test_text = test_text.apply(lambda doc: ' '.join(' '.join(doc.split('\\n')).split('\\\\n')))\n",
    "    # add additional tokens to stopwords\n",
    "    additional = ['like','would']\n",
    "    all_stop_words = all_stop_list(additional)\n",
    "\n",
    "    # set vectorizer params\n",
    "    vec_params = {\n",
    "        'stop_words':all_stop_words,            # nltk stopwords + custom stopwords\n",
    "        'min_df': 5,                            # token must appear in at least 3 docs\n",
    "        'strip_accents':'unicode',              # token normalization by stripping accents and other punct\n",
    "        'token_pattern':r'\\b[a-zA-Z]{3,}\\b'}    # only keep non-numeric tokens over 2 letters\n",
    "    \n",
    "    # intialize and fit tfidf vectorizer\n",
    "    tfidf_vec = TfidfVectorizer(**vec_params)\n",
    "    tfidf_vec = tfidf_vec.fit(train_text)\n",
    "    \n",
    "    # transform train data to get doc term matrix\n",
    "    dtm = tfidf_vec.transform(train_text)\n",
    "    \n",
    "    # init clustering model with 4 clusters using cosine distance\n",
    "    # repeat clustering 20x with new initial centroids\n",
    "    num_clusters = 4\n",
    "    clusterer = KMeansClusterer(num_clusters, cosine_distance, repeats=20)\n",
    "    # assign cluster labels \n",
    "    clusters = clusterer.cluster(dtm.toarray(), assign_clusters=True)\n",
    "\n",
    "    # transform test set with fitted vectorizer and predict clusters\n",
    "    test_dtm = tfidf_vec.transform(test_text)\n",
    "    predicted = [clusterer.classify(v) for v in test_dtm.toarray()]\n",
    "\n",
    "    # create df with ground truth labels and predicted cluster ids\n",
    "    confusion_df = pd.DataFrame(list(zip(test_label.values, predicted)), columns = [\"label\", \"cluster\"])\n",
    "    # use confusion matrix to map cluster id to true labels by majority vote\n",
    "    cluster_labels = pd.crosstab( index=confusion_df.cluster, columns=confusion_df.label)\n",
    "    cluster_dict = {i:cluster_labels.loc[i].idxmax() for i in range(num_clusters)}\n",
    "    # Map true label to cluster id\n",
    "    predicted_target = [cluster_dict[i]  for i in predicted]\n",
    "    \n",
    "    # print classification report\n",
    "    best_report = metrics.classification_report(test_label.values, predicted_target)\n",
    "    print(best_report)\n",
    "\n",
    "    "
   ]
  },
  {
   "cell_type": "code",
   "execution_count": 9,
   "metadata": {
    "scrolled": false
   },
   "outputs": [
    {
     "name": "stdout",
     "output_type": "stream",
     "text": [
      "              precision    recall  f1-score   support\n",
      "\n",
      "           1       0.67      0.85      0.75       332\n",
      "           2       0.93      0.68      0.79       314\n",
      "           3       0.85      0.75      0.80       355\n",
      "           7       0.69      0.79      0.74       273\n",
      "\n",
      "    accuracy                           0.77      1274\n",
      "   macro avg       0.79      0.77      0.77      1274\n",
      "weighted avg       0.79      0.77      0.77      1274\n",
      "\n"
     ]
    }
   ],
   "source": [
    "cluster_kmean(train_text, test_text, test_label)"
   ]
  },
  {
   "cell_type": "code",
   "execution_count": 17,
   "metadata": {
    "collapsed": true
   },
   "outputs": [
    {
     "name": "stdout",
     "output_type": "stream",
     "text": [
      "              precision    recall  f1-score   support\n",
      "\n",
      "           1       0.88      0.59      0.71       332\n",
      "           2       0.91      0.67      0.77       314\n",
      "           3       0.60      0.90      0.72       355\n",
      "           7       0.70      0.75      0.72       273\n",
      "\n",
      "    accuracy                           0.73      1274\n",
      "   macro avg       0.77      0.73      0.73      1274\n",
      "weighted avg       0.77      0.73      0.73      1274\n",
      "\n"
     ]
    }
   ],
   "source": [
    "# ref\n",
    "cluster_kmean(train_text, test_text, test_label)"
   ]
  },
  {
   "cell_type": "markdown",
   "metadata": {},
   "source": [
    "Briefly discuss the following questions.\n",
    "\n",
    "    What preprocessing parameters are better and why.\n",
    "    Which distance measure is better and why it is better.\n",
    "    Could you assign a meaningful name to each cluster? Discuss how you interpret each cluster."
   ]
  },
  {
   "cell_type": "markdown",
   "metadata": {},
   "source": [
    "Preprocessing by stripping all punctuation and only keeping non-numeric characters over 2 letters worked well by reducing variance within clusters and normalizing the documents. Also, after looking at the top 20 words for each cluster, additional stop words ['like','would'] were added. This further reduced variance in the data and helps to reduce overlapping features/similarity between clusters. The high variance is shown in the scatter plots below.    \n",
    "    \n",
    "    \n",
    "Cosine distance similarity was more effective that Euclidean because the decision space had large dimensions, and there is a lot of overlap between text vectors due to common words such as 'person' or 'where'. In this case, cosine similarity is better because it considers the angle between two vectors, unlike Euclidean similiarity that considers vector magnitude. This means cosine is better for determining the semantic components of text for clustering, where Euclidean is suited for tasks with token raw frequency.    \n",
    "  \n",
    "Topic names can be assigned by looking at the most popular words for each cluster:  \n",
    "Cluster 0:  water; energy; light; earth; number; one; used; air; mass; two; speed; gas; equation; force; also; answer; heat; sun; use; first   \n",
    "Cluster 1:  http; com; www; business; credit; money; company; get; good; find; pay; need; want; one; yahoo; help; tax; card; home; site   \n",
    "Cluster 2:  get; people; know; help; think; good; one; time; want; really; weight; need; work; take; could; make; day; also; feel; way   \n",
    "Cluster 3: god; people; jesus; bible; believe; religion; christians; one; man; life; think; world; christian; church; many; know; question; say; love; christ \n",
    "\n",
    "Based on the semantic similarity of the clusters, they could be labeled as:\n",
    "0: 'science and math'\n",
    "1: 'business'\n",
    "2: 'health and wellness'\n",
    "3: 'religion'\n",
    "\n",
    "These labels were chosen based on the percieved common topic between the words, as well as what defined them the best without being similar to another cluster. For example, assigning topic 0 as 'tech' might be too vague and relate to a lot of text in topic 1 as well.  "
   ]
  },
  {
   "cell_type": "code",
   "execution_count": 27,
   "metadata": {},
   "outputs": [
    {
     "data": {
      "image/png": "[encoded data removed]",
      "text/plain": [
       "<Figure size 1600x400 with 2 Axes>"
      ]
     },
     "metadata": {},
     "output_type": "display_data"
    }
   ],
   "source": [
    "\n",
    "from sklearn.decomposition import PCA\n",
    "pca = PCA(n_components=2)\n",
    "X = pca.fit_transform(test_dtm.toarray())\n",
    "\n",
    "plt.figure(figsize=(16, 4))\n",
    "plt.subplot(1,2,1)\n",
    "sns.scatterplot(x=X[:,0], y=X[:,1], hue = test[\"label\"], palette=['green','orange','blue','red'] )\n",
    "\n",
    "plt.subplot(1,2,2)\n",
    "sns.scatterplot(x=X[:,0], y=X[:,1], hue = predicted, palette=['red','orange','green','blue'] )\n",
    "plt.show()\n"
   ]
  },
  {
   "cell_type": "code",
   "execution_count": 25,
   "metadata": {
    "scrolled": true
   },
   "outputs": [
    {
     "name": "stdout",
     "output_type": "stream",
     "text": [
      "Cluster 0:\n",
      " water; energy; light; earth; number; one; used; air; mass; two; speed; gas; equation; force; also; answer; heat; sun; use; first \n",
      "Cluster 1:\n",
      " http; com; www; business; credit; money; company; get; good; find; pay; need; want; one; yahoo; help; tax; card; home; site \n",
      "Cluster 2:\n",
      " get; people; know; help; think; good; one; time; want; really; weight; need; work; take; could; make; day; also; feel; way \n",
      "Cluster 3:\n",
      " god; people; jesus; bible; believe; religion; christians; one; man; life; think; world; christian; church; many; know; question; say; love; christ \n"
     ]
    }
   ],
   "source": [
    "# remove new line chars to prevent tokenization errors\n",
    "train_text = train_text.apply(lambda doc: ' '.join(' '.join(doc.split('\\n')).split('\\\\n')))\n",
    "test_text = test_text.apply(lambda doc: ' '.join(' '.join(doc.split('\\n')).split('\\\\n')))\n",
    "# add additional tokens to stopwords\n",
    "additional = ['like','would']\n",
    "all_stop_words = all_stop_list(additional)\n",
    "\n",
    "# set vectorizer params\n",
    "vec_params = {\n",
    "    'stop_words':all_stop_words,            # nltk stopwords + custom stopwords\n",
    "    'min_df': 5,                            # token must appear in at least 3 docs\n",
    "    'strip_accents':'unicode',              # token normalization by stripping accents and other punct\n",
    "    'token_pattern':r'\\b[a-zA-Z]{3,}\\b'}    # only keep non-numeric tokens over 2 letters\n",
    "\n",
    "# intialize and fit tfidf vectorizer\n",
    "tfidf_vec = TfidfVectorizer(**vec_params)\n",
    "tfidf_vec = tfidf_vec.fit(train_text)\n",
    "\n",
    "# transform train data to get doc term matrix\n",
    "dtm = tfidf_vec.transform(train_text)\n",
    "\n",
    "# init clustering model with 4 clusters using cosine distance\n",
    "# repeat clustering 20x with new initial centroids\n",
    "num_clusters = 4\n",
    "clusterer = KMeansClusterer(num_clusters, cosine_distance, repeats=20)\n",
    "# assign cluster labels \n",
    "clusters = clusterer.cluster(dtm.toarray(), assign_clusters=True)\n",
    "\n",
    "# clusterer.means() contains the centroids\n",
    "# each row is a cluster, and \n",
    "# each column is a feature (word)\n",
    "centroids=np.array(clusterer.means())\n",
    "\n",
    "# argsort sort the matrix in ascending order \n",
    "# and return locations of features before sorting\n",
    "# [:,::-1] reverse the order\n",
    "sorted_centroids = centroids.argsort()[:, ::-1] \n",
    "\n",
    "voc_lookup= tfidf_vec.get_feature_names_out()\n",
    "num_clusters = 4\n",
    "for i in range(num_clusters):\n",
    "    \n",
    "    # get words with top 20 tf-idf weight in the centroid\n",
    "    top_words=[voc_lookup[word_index] \\\n",
    "               for word_index in sorted_centroids[i, :20]]\n",
    "    print(\"Cluster %d:\\n %s \" % (i, \"; \".join(top_words)))\n",
    "    "
   ]
  },
  {
   "cell_type": "markdown",
   "metadata": {},
   "source": [
    "## Q2: Clustering by Gaussian Mixture Model\n",
    "\n",
    "In this task, you'll re-do the clustering using a Gaussian Mixture Model. Call this function  `cluster_gmm(train_text, test_text, text_label)`. \n",
    "\n",
    "You may take a subset from the data to do GMM because it can take a lot of time. \n",
    "\n",
    "Write your analysis on the following:\n",
    "- How did you pick the parameters such as the number of clusters, variance type etc.?\n",
    "- Compare to Kmeans in Q1, do you achieve better preformance by GMM?\n",
    "\n",
    "- Note, be sure to use different initial means (i.e. `n_init` parameter) when fitting the model to achieve the model stability "
   ]
  },
  {
   "cell_type": "code",
   "execution_count": 19,
   "metadata": {},
   "outputs": [
    {
     "data": {
      "text/html": [
       "<style>#sk-container-id-3 {color: black;background-color: white;}#sk-container-id-3 pre{padding: 0;}#sk-container-id-3 div.sk-toggleable {background-color: white;}#sk-container-id-3 label.sk-toggleable__label {cursor: pointer;display: block;width: 100%;margin-bottom: 0;padding: 0.3em;box-sizing: border-box;text-align: center;}#sk-container-id-3 label.sk-toggleable__label-arrow:before {content: \"▸\";float: left;margin-right: 0.25em;color: #696969;}#sk-container-id-3 label.sk-toggleable__label-arrow:hover:before {color: black;}#sk-container-id-3 div.sk-estimator:hover label.sk-toggleable__label-arrow:before {color: black;}#sk-container-id-3 div.sk-toggleable__content {max-height: 0;max-width: 0;overflow: hidden;text-align: left;background-color: #f0f8ff;}#sk-container-id-3 div.sk-toggleable__content pre {margin: 0.2em;color: black;border-radius: 0.25em;background-color: #f0f8ff;}#sk-container-id-3 input.sk-toggleable__control:checked~div.sk-toggleable__content {max-height: 200px;max-width: 100%;overflow: auto;}#sk-container-id-3 input.sk-toggleable__control:checked~label.sk-toggleable__label-arrow:before {content: \"▾\";}#sk-container-id-3 div.sk-estimator input.sk-toggleable__control:checked~label.sk-toggleable__label {background-color: #d4ebff;}#sk-container-id-3 div.sk-label input.sk-toggleable__control:checked~label.sk-toggleable__label {background-color: #d4ebff;}#sk-container-id-3 input.sk-hidden--visually {border: 0;clip: rect(1px 1px 1px 1px);clip: rect(1px, 1px, 1px, 1px);height: 1px;margin: -1px;overflow: hidden;padding: 0;position: absolute;width: 1px;}#sk-container-id-3 div.sk-estimator {font-family: monospace;background-color: #f0f8ff;border: 1px dotted black;border-radius: 0.25em;box-sizing: border-box;margin-bottom: 0.5em;}#sk-container-id-3 div.sk-estimator:hover {background-color: #d4ebff;}#sk-container-id-3 div.sk-parallel-item::after {content: \"\";width: 100%;border-bottom: 1px solid gray;flex-grow: 1;}#sk-container-id-3 div.sk-label:hover label.sk-toggleable__label {background-color: #d4ebff;}#sk-container-id-3 div.sk-serial::before {content: \"\";position: absolute;border-left: 1px solid gray;box-sizing: border-box;top: 0;bottom: 0;left: 50%;z-index: 0;}#sk-container-id-3 div.sk-serial {display: flex;flex-direction: column;align-items: center;background-color: white;padding-right: 0.2em;padding-left: 0.2em;position: relative;}#sk-container-id-3 div.sk-item {position: relative;z-index: 1;}#sk-container-id-3 div.sk-parallel {display: flex;align-items: stretch;justify-content: center;background-color: white;position: relative;}#sk-container-id-3 div.sk-item::before, #sk-container-id-3 div.sk-parallel-item::before {content: \"\";position: absolute;border-left: 1px solid gray;box-sizing: border-box;top: 0;bottom: 0;left: 50%;z-index: -1;}#sk-container-id-3 div.sk-parallel-item {display: flex;flex-direction: column;z-index: 1;position: relative;background-color: white;}#sk-container-id-3 div.sk-parallel-item:first-child::after {align-self: flex-end;width: 50%;}#sk-container-id-3 div.sk-parallel-item:last-child::after {align-self: flex-start;width: 50%;}#sk-container-id-3 div.sk-parallel-item:only-child::after {width: 0;}#sk-container-id-3 div.sk-dashed-wrapped {border: 1px dashed gray;margin: 0 0.4em 0.5em 0.4em;box-sizing: border-box;padding-bottom: 0.4em;background-color: white;}#sk-container-id-3 div.sk-label label {font-family: monospace;font-weight: bold;display: inline-block;line-height: 1.2em;}#sk-container-id-3 div.sk-label-container {text-align: center;}#sk-container-id-3 div.sk-container {/* jupyter's `normalize.less` sets `[hidden] { display: none; }` but bootstrap.min.css set `[hidden] { display: none !important; }` so we also need the `!important` here to be able to override the default hidden behavior on the sphinx rendered scikit-learn.org. See: https://github.com/scikit-learn/scikit-learn/issues/21755 */display: inline-block !important;position: relative;}#sk-container-id-3 div.sk-text-repr-fallback {display: none;}</style><div id=\"sk-container-id-3\" class=\"sk-top-container\"><div class=\"sk-text-repr-fallback\"><pre>GaussianMixture(covariance_type=&#x27;diag&#x27;, n_components=4, n_init=2,\n",
       "                random_state=42)</pre><b>In a Jupyter environment, please rerun this cell to show the HTML representation or trust the notebook. <br />On GitHub, the HTML representation is unable to render, please try loading this page with nbviewer.org.</b></div><div class=\"sk-container\" hidden><div class=\"sk-item\"><div class=\"sk-estimator sk-toggleable\"><input class=\"sk-toggleable__control sk-hidden--visually\" id=\"sk-estimator-id-3\" type=\"checkbox\" checked><label for=\"sk-estimator-id-3\" class=\"sk-toggleable__label sk-toggleable__label-arrow\">GaussianMixture</label><div class=\"sk-toggleable__content\"><pre>GaussianMixture(covariance_type=&#x27;diag&#x27;, n_components=4, n_init=2,\n",
       "                random_state=42)</pre></div></div></div></div></div>"
      ],
      "text/plain": [
       "GaussianMixture(covariance_type='diag', n_components=4, n_init=2,\n",
       "                random_state=42)"
      ]
     },
     "execution_count": 19,
     "metadata": {},
     "output_type": "execute_result"
    }
   ],
   "source": [
    "# Grid search to find optimal params\n",
    "\n",
    "# remove new line chars to prevent tokenization errors\n",
    "train_text = train_text.apply(lambda doc: ' '.join(' '.join(doc.split('\\n')).split('\\\\n')))\n",
    "test_text = test_text.apply(lambda doc: ' '.join(' '.join(doc.split('\\n')).split('\\\\n')))\n",
    "# add additional tokens to stopwords\n",
    "additional = ['like','would']\n",
    "all_stop_words = all_stop_list(additional)\n",
    "\n",
    "# set vectorizer params\n",
    "vec_params = {\n",
    "    'stop_words':all_stop_words,            # nltk stopwords + custom stopwords\n",
    "    'min_df': 5,                            # token must appear in at least 3 docs\n",
    "    'strip_accents':'unicode',              # token normalization by stripping accents and other punct\n",
    "    'token_pattern':r'\\b[a-zA-Z]{3,}\\b'}    # only keep non-numeric tokens over 2 letters\n",
    "\n",
    "# intialize and fit tfidf vectorizer\n",
    "tfidf_vec = TfidfVectorizer(**vec_params)\n",
    "tfidf_vec = tfidf_vec.fit(train_text)\n",
    "\n",
    "# transform train data to get doc term matrix\n",
    "dtm = tfidf_vec.transform(train_text)\n",
    "\n",
    "# We use a small scope of grid search to find the best parameters of GMM\n",
    "\n",
    "lowest_bic = np.infty   # initial BIC is set to infinity\n",
    "best_gmm = None\n",
    "\n",
    "n_components_range = range(2,5)\n",
    "cv_types = ['spherical', 'tied', 'diag', 'full']  \n",
    "\n",
    "# The covariance type, for details check https://scikit-learn.org/stable/modules/generated/sklearn.mixture.GaussianMixture.html#sklearn.mixture.GaussianMixture.aic\n",
    "#‘full’: each component has its own general covariance matrix.\n",
    "#‘tied’: all components share the same general covariance matrix.\n",
    "#‘diag’: each component has its own diagonal covariance matrix.\n",
    "#‘spherical’: each component has its own single variance.\n",
    "\n",
    "for cv_type in cv_types:\n",
    "    for n_components in n_components_range:\n",
    "        # Fit a Gaussian mixture with EM\n",
    "        gmm = mixture.GaussianMixture(n_components=n_components,\n",
    "                                      n_init=2,\n",
    "                                      covariance_type=cv_type, random_state=42)\n",
    "        gmm.fit(dtm.toarray())\n",
    "        \n",
    "        bic = gmm.bic(dtm.toarray())  # get Model BIC\n",
    "        \n",
    "        if bic < lowest_bic:  # save the model with lowest BIC sofar\n",
    "            lowest_bic = bic\n",
    "            best_gmm = gmm\n",
    "\n",
    "# lowest_bic\n",
    "best_gmm\n"
   ]
  },
  {
   "cell_type": "code",
   "execution_count": 24,
   "metadata": {},
   "outputs": [],
   "source": [
    "def cluster_gmm(train_text, test_text, test_label):\n",
    "    num_clusters = 4\n",
    "#     train_text=train[\"text\"][:3000]\n",
    "\n",
    "    # remove new line chars to prevent tokenization errors\n",
    "    train_text = train_text.apply(lambda doc: ' '.join(' '.join(doc.split('\\n')).split('\\\\n')))\n",
    "    test_text = test_text.apply(lambda doc: ' '.join(' '.join(doc.split('\\n')).split('\\\\n')))\n",
    "    # add additional tokens to stopwords\n",
    "    additional = ['like','would']\n",
    "    all_stop_words = all_stop_list(additional)\n",
    "\n",
    "    # set vectorizer params\n",
    "    vec_params = {\n",
    "        'stop_words':all_stop_words,            # nltk stopwords + custom stopwords\n",
    "        'min_df': 5,                            # token must appear in at least 3 docs\n",
    "        'strip_accents':'unicode',              # token normalization by stripping accents and other punct\n",
    "        'token_pattern':r'\\b[a-zA-Z]{3,}\\b'}    # only keep non-numeric tokens over 2 letters\n",
    "\n",
    "    # intialize and fit tfidf vectorizer\n",
    "    tfidf_vec = TfidfVectorizer(**vec_params)\n",
    "    tfidf_vec = tfidf_vec.fit(train_text)\n",
    "\n",
    "    test_dtm = tfidf_vec.transform(test_text)\n",
    "    predicted = best_gmm.predict(test_dtm.toarray())\n",
    "\n",
    "    # create df with ground truth labels and predicted cluster ids\n",
    "    confusion_df = pd.DataFrame(list(zip(test_label.values, predicted)), columns = [\"label\", \"cluster\"])\n",
    "    # use confusion matrix to map cluster id to true labels by majority vote\n",
    "    cluster_labels = pd.crosstab( index=confusion_df.cluster, columns=confusion_df.label)\n",
    "    cluster_dict = {i:cluster_labels.loc[i].idxmax() for i in range(num_clusters)}\n",
    "    # Map true label to cluster id\n",
    "    predicted_target = [cluster_dict[i]  for i in predicted]\n",
    "\n",
    "    # print classification report\n",
    "    best_report = metrics.classification_report(test_label.values, predicted_target)\n",
    "    print(best_report)\n",
    "    \n",
    "    "
   ]
  },
  {
   "cell_type": "code",
   "execution_count": 25,
   "metadata": {},
   "outputs": [
    {
     "name": "stdout",
     "output_type": "stream",
     "text": [
      "              precision    recall  f1-score   support\n",
      "\n",
      "           1       0.62      0.81      0.70       332\n",
      "           2       0.70      0.75      0.72       314\n",
      "           3       0.77      0.72      0.75       355\n",
      "           7       0.79      0.49      0.61       273\n",
      "\n",
      "    accuracy                           0.70      1274\n",
      "   macro avg       0.72      0.69      0.69      1274\n",
      "weighted avg       0.72      0.70      0.70      1274\n",
      "\n"
     ]
    }
   ],
   "source": [
    "train_text=train[\"text\"][:3000]\n",
    "cluster_gmm(train_text, test_text, test_label)"
   ]
  },
  {
   "cell_type": "code",
   "execution_count": 21,
   "metadata": {
    "collapsed": true
   },
   "outputs": [
    {
     "name": "stdout",
     "output_type": "stream",
     "text": [
      "              precision    recall  f1-score   support\n",
      "\n",
      "           1       0.67      0.75      0.71       332\n",
      "           2       0.77      0.75      0.76       314\n",
      "           3       0.76      0.77      0.76       355\n",
      "           7       0.74      0.65      0.69       273\n",
      "\n",
      "    accuracy                           0.73      1274\n",
      "   macro avg       0.73      0.73      0.73      1274\n",
      "weighted avg       0.73      0.73      0.73      1274\n",
      "\n"
     ]
    }
   ],
   "source": [
    "# ref\n",
    "train_text=train[\"text\"][:3000]\n",
    "cluster_gmm(train_text, test_text, test_label)"
   ]
  },
  {
   "cell_type": "markdown",
   "metadata": {},
   "source": [
    "Write your analysis on the following:\n",
    "\n",
    "    How did you pick the parameters such as the number of clusters, variance type etc.?\n",
    "    Compare to Kmeans in Q1, do you achieve better preformance by GMM?"
   ]
  },
  {
   "cell_type": "markdown",
   "metadata": {},
   "source": [
    "Parameters for the GMM model were chosen using grid search by looping through lists of possible feature values, and choosing the model with the lowest BIC since were assuming we wont need a lot of clusters.  \n",
    "  \n",
    "  \n",
    "GMM had worse performance compared to Kmeans, indicating the data distribution may not be Gaussian. GMM is also very sensitive to its initial parameters, but time limits in compiling limited searching a larger space. Further preprocessing to bring the data closer to a mixed Gaussian distribution or further initial tuning could improve performance.\n",
    "  "
   ]
  },
  {
   "cell_type": "markdown",
   "metadata": {},
   "source": [
    "## Q3: Clustering by LDA \n",
    "\n",
    "In this task, you'll re-do the clustering using LDA. Call this function `cluster_lda(train_text, test_text, text_label)`. \n",
    "\n",
    "However, since LDA returns topic mixture for each document, you `assign the topic with highest probability to each test document`, and then measure the performance as in Q1\n",
    "\n",
    "In addition, within the function, please print out the top 30 words for each topic\n",
    "\n",
    "Finally, please analyze the following:\n",
    "- Based on the top words of each topic, could you assign a meaningful name to each topic? In other words, do you think your result can achieve intratopic coherence and intertopic separation? \n",
    "- Although the test subset shows there are 4 clusters, without this information, how do you choose the number of topics? \n",
    "- Does your LDA model achieve better performance than KMeans or GMM? What do you think are the explanations?"
   ]
  },
  {
   "cell_type": "code",
   "execution_count": 184,
   "metadata": {},
   "outputs": [
    {
     "name": "stdout",
     "output_type": "stream",
     "text": [
      "              precision    recall  f1-score   support\n",
      "\n",
      "           1       0.62      0.81      0.70       332\n",
      "           2       0.70      0.75      0.72       314\n",
      "           3       0.77      0.72      0.75       355\n",
      "           7       0.79      0.49      0.61       273\n",
      "\n",
      "    accuracy                           0.70      1274\n",
      "   macro avg       0.72      0.69      0.69      1274\n",
      "weighted avg       0.72      0.70      0.70      1274\n",
      "\n"
     ]
    }
   ],
   "source": [
    "num_clusters = 4\n",
    "train_text=train[\"text\"][:3000]\n",
    "\n",
    "# remove new line chars to prevent tokenization errors\n",
    "train_text = train_text.apply(lambda doc: ' '.join(' '.join(doc.split('\\n')).split('\\\\n')))\n",
    "test_text = test_text.apply(lambda doc: ' '.join(' '.join(doc.split('\\n')).split('\\\\n')))\n",
    "# add additional tokens to stopwords\n",
    "additional = ['like','would']\n",
    "all_stop_words = all_stop_list(additional)\n",
    "\n",
    "# set vectorizer params\n",
    "vec_params = {\n",
    "    'stop_words':all_stop_words,            # nltk stopwords + custom stopwords\n",
    "    'min_df': 5,                            # token must appear in at least 3 docs\n",
    "    'strip_accents':'unicode',              # token normalization by stripping accents and other punct\n",
    "    'token_pattern':r'\\b[a-zA-Z]{3,}\\b'}    # only keep non-numeric tokens over 2 letters\n",
    "\n",
    "# intialize and fit tfidf vectorizer\n",
    "tfidf_vec = TfidfVectorizer(**vec_params)\n",
    "tfidf_vec = tfidf_vec.fit(train_text)\n",
    "\n",
    "test_dtm = tfidf_vec.transform(test_text)\n",
    "predicted = best_gmm.predict(test_dtm.toarray())\n",
    "\n",
    "# create df with ground truth labels and predicted cluster ids\n",
    "confusion_df = pd.DataFrame(list(zip(test_label.values, predicted)), columns = [\"label\", \"cluster\"])\n",
    "# use confusion matrix to map cluster id to true labels by majority vote\n",
    "cluster_labels = pd.crosstab( index=confusion_df.cluster, columns=confusion_df.label)\n",
    "cluster_dict = {i:cluster_labels.loc[i].idxmax() for i in range(num_clusters)}\n",
    "# Map true label to cluster id\n",
    "predicted_target = [cluster_dict[i]  for i in predicted]\n",
    "\n",
    "# print classification report\n",
    "best_report = metrics.classification_report(test_label.values, predicted_target)\n",
    "print(best_report)\n",
    "\n"
   ]
  },
  {
   "cell_type": "code",
   "execution_count": 234,
   "metadata": {},
   "outputs": [],
   "source": [
    "def cluster_lda(train, test_text, test_label):\n",
    "    \n",
    "    num_topics = 4\n",
    "\n",
    "    # add additional tokens to stopwords\n",
    "    additional = ['like','said']\n",
    "    all_stop_words = all_stop_list(additional)\n",
    "\n",
    "    # set vectorizer params\n",
    "    vec_params = {\n",
    "        'stop_words':all_stop_words,            # nltk stopwords + custom stopwords\n",
    "        'min_df': 5,                            # token must appear in at least 3 docs\n",
    "        'strip_accents':'unicode',              # token normalization by stripping accents and other punct\n",
    "        'token_pattern':r'\\b[a-zA-Z]{3,}\\b'}    # only keep non-numeric tokens over 2 letters\n",
    "\n",
    "    # intialize and fit tfidf vectorizer\n",
    "    tf_vectorizer = CountVectorizer(**vec_params)\n",
    "    tf_vectorizer = tf_vectorizer.fit(train_text)\n",
    "\n",
    "    tf = tf_vectorizer.transform(train_text)\n",
    "\n",
    "    lda = LatentDirichletAllocation(n_components=num_topics, \\\n",
    "                                    max_iter=40,verbose=1,\n",
    "                                    evaluate_every=1, n_jobs=1,\n",
    "                                    random_state=0).fit(tf)\n",
    "\n",
    "    # Generate topic assignment of each test document\n",
    "    topic_assign = lda.transform(tf_vectorizer.transform(test_text))\n",
    "\n",
    "    num_top_words = 30\n",
    "\n",
    "    for topic_idx, topic in enumerate(lda.components_):\n",
    "        print (\"Topic %d:\" % (topic_idx))\n",
    "        # print out top 20 words per topic \n",
    "        words=[(tf_feature_names[i],'%.2f'%topic[i]) \\\n",
    "               for i in topic.argsort()[::-1][0:num_top_words]]\n",
    "        print(words)\n",
    "        print(\"\\n\")\n",
    "\n",
    "    predicted_topic = [topic.argmax() for topic in topic_assign]\n",
    "\n",
    "    confusion_df = pd.DataFrame(list(zip(test_label.values, predicted_topic)), columns = [\"label\", \"cluster\"])\n",
    "    # # use confusion matrix to map cluster id to true labels by majority vote\n",
    "    cluster_labels = pd.crosstab( index=confusion_df.cluster, columns=confusion_df.label)\n",
    "    cluster_dict = {i:cluster_labels.iloc[i].idxmax() for i in range(num_topics)}\n",
    "\n",
    "    predicted_topic = [cluster_dict[topic] for topic in predicted_topic]\n",
    "\n",
    "    best_report = metrics.classification_report(test_label.values, predicted_topic)\n",
    "    print(best_report)\n",
    "        \n",
    "     \n",
    "   "
   ]
  },
  {
   "cell_type": "code",
   "execution_count": 229,
   "metadata": {
    "collapsed": true
   },
   "outputs": [
    {
     "name": "stdout",
     "output_type": "stream",
     "text": [
      "iteration: 1 of max_iter: 40, perplexity: 2897.6330\n",
      "iteration: 2 of max_iter: 40, perplexity: 2697.3658\n",
      "iteration: 3 of max_iter: 40, perplexity: 2544.2587\n",
      "iteration: 4 of max_iter: 40, perplexity: 2432.6591\n",
      "iteration: 5 of max_iter: 40, perplexity: 2355.3281\n",
      "iteration: 6 of max_iter: 40, perplexity: 2303.8201\n",
      "iteration: 7 of max_iter: 40, perplexity: 2269.4070\n",
      "iteration: 8 of max_iter: 40, perplexity: 2245.3667\n",
      "iteration: 9 of max_iter: 40, perplexity: 2227.4544\n",
      "iteration: 10 of max_iter: 40, perplexity: 2213.3833\n",
      "iteration: 11 of max_iter: 40, perplexity: 2202.6518\n",
      "iteration: 12 of max_iter: 40, perplexity: 2194.0094\n",
      "iteration: 13 of max_iter: 40, perplexity: 2186.6771\n",
      "iteration: 14 of max_iter: 40, perplexity: 2180.4358\n",
      "iteration: 15 of max_iter: 40, perplexity: 2175.3719\n",
      "iteration: 16 of max_iter: 40, perplexity: 2171.2931\n",
      "iteration: 17 of max_iter: 40, perplexity: 2167.9876\n",
      "iteration: 18 of max_iter: 40, perplexity: 2165.4148\n",
      "iteration: 19 of max_iter: 40, perplexity: 2163.0336\n",
      "iteration: 20 of max_iter: 40, perplexity: 2160.6187\n",
      "iteration: 21 of max_iter: 40, perplexity: 2158.1488\n",
      "iteration: 22 of max_iter: 40, perplexity: 2155.6653\n",
      "iteration: 23 of max_iter: 40, perplexity: 2153.0281\n",
      "iteration: 24 of max_iter: 40, perplexity: 2150.4034\n",
      "iteration: 25 of max_iter: 40, perplexity: 2148.1192\n",
      "iteration: 26 of max_iter: 40, perplexity: 2146.1857\n",
      "iteration: 27 of max_iter: 40, perplexity: 2144.6004\n",
      "iteration: 28 of max_iter: 40, perplexity: 2143.1779\n",
      "iteration: 29 of max_iter: 40, perplexity: 2141.7406\n",
      "iteration: 30 of max_iter: 40, perplexity: 2139.8559\n",
      "iteration: 31 of max_iter: 40, perplexity: 2137.7847\n",
      "iteration: 32 of max_iter: 40, perplexity: 2135.9216\n",
      "iteration: 33 of max_iter: 40, perplexity: 2134.0050\n",
      "iteration: 34 of max_iter: 40, perplexity: 2132.2501\n",
      "iteration: 35 of max_iter: 40, perplexity: 2130.8226\n",
      "iteration: 36 of max_iter: 40, perplexity: 2129.6885\n",
      "iteration: 37 of max_iter: 40, perplexity: 2128.8028\n",
      "iteration: 38 of max_iter: 40, perplexity: 2128.0902\n",
      "iteration: 39 of max_iter: 40, perplexity: 2127.4017\n",
      "iteration: 40 of max_iter: 40, perplexity: 2126.6873\n",
      "Topic 0:\n",
      "[('water', '499.19'), ('weight', '382.23'), ('body', '327.67'), ('blood', '283.64'), ('eat', '262.34'), ('help', '244.14'), ('diet', '224.24'), ('used', '209.48'), ('does', '195.90'), ('use', '191.07'), ('air', '183.80'), ('cause', '173.19'), ('food', '169.72'), ('need', '168.96'), ('like', '164.35'), ('exercise', '162.23'), ('pressure', '162.23'), ('doctor', '161.47'), ('day', '158.42'), ('good', '154.20'), ('pain', '152.22'), ('high', '152.19'), ('energy', '148.05'), ('eating', '147.22'), ('fat', '147.05'), ('skin', '145.28'), ('lose', '144.18'), ('make', '142.77'), ('cancer', '138.23'), ('gas', '125.21')]\n",
      "\n",
      "\n",
      "Topic 1:\n",
      "[('god', '677.52'), ('earth', '275.23'), ('jesus', '274.24'), ('bible', '244.67'), ('10', '213.80'), ('light', '211.40'), ('does', '210.66'), ('people', '191.82'), ('world', '172.80'), ('time', '169.98'), ('religion', '164.10'), ('believe', '152.91'), ('answer', '148.77'), ('question', '137.54'), ('word', '132.77'), ('human', '131.58'), ('man', '130.10'), ('number', '129.85'), ('mean', '124.51'), ('know', '123.73'), ('did', '118.05'), ('english', '117.22'), ('christian', '115.52'), ('american', '114.35'), ('like', '114.02'), ('fear', '113.96'), ('space', '113.74'), ('christians', '110.36'), ('different', '109.97'), ('power', '106.56')]\n",
      "\n",
      "\n",
      "Topic 2:\n",
      "[('just', '1044.32'), ('people', '948.01'), ('like', '928.16'), ('know', '784.54'), ('don', '776.09'), ('think', '691.57'), ('really', '539.02'), ('want', '512.85'), ('time', '501.40'), ('good', '486.43'), ('life', '405.94'), ('say', '391.57'), ('help', '384.96'), ('way', '382.57'), ('feel', '379.42'), ('make', '337.26'), ('things', '322.67'), ('need', '318.78'), ('person', '296.37'), ('going', '286.91'), ('love', '270.76'), ('tell', '270.61'), ('day', '262.43'), ('ve', '253.73'), ('right', '251.16'), ('thing', '249.78'), ('did', '249.66'), ('years', '244.59'), ('does', '239.89'), ('dont', '224.12')]\n",
      "\n",
      "\n",
      "Topic 3:\n",
      "[('http', '515.23'), ('com', '476.23'), ('www', '415.23'), ('good', '291.15'), ('business', '286.24'), ('money', '253.49'), ('job', '248.16'), ('need', '247.16'), ('want', '230.12'), ('work', '216.90'), ('help', '190.51'), ('credit', '183.24'), ('pay', '178.75'), ('information', '176.76'), ('company', '175.22'), ('question', '164.67'), ('like', '164.47'), ('make', '162.90'), ('yahoo', '162.38'), ('know', '153.61'), ('don', '131.92'), ('best', '131.10'), ('home', '129.07'), ('time', '128.20'), ('site', '127.83'), ('state', '127.15'), ('free', '123.64'), ('looking', '120.69'), ('new', '116.97'), ('use', '116.79')]\n",
      "\n",
      "\n",
      "              precision    recall  f1-score   support\n",
      "\n",
      "           1       0.43      0.61      0.50       332\n",
      "           2       0.54      0.43      0.48       314\n",
      "           3       0.59      0.48      0.53       355\n",
      "           7       0.73      0.71      0.72       273\n",
      "\n",
      "    accuracy                           0.55      1274\n",
      "   macro avg       0.57      0.56      0.56      1274\n",
      "weighted avg       0.57      0.55      0.55      1274\n",
      "\n"
     ]
    }
   ],
   "source": [
    "num_topics = 4\n",
    "\n",
    "# add additional tokens to stopwords\n",
    "additional = ['like','said']\n",
    "all_stop_words = all_stop_list(additional)\n",
    "\n",
    "# set vectorizer params\n",
    "vec_params = {\n",
    "    'stop_words':all_stop_words,            # nltk stopwords + custom stopwords\n",
    "    'min_df': 5,                            # token must appear in at least 3 docs\n",
    "    'strip_accents':'unicode',              # token normalization by stripping accents and other punct\n",
    "    'token_pattern':r'\\b[a-zA-Z]{3,}\\b'}    # only keep non-numeric tokens over 2 letters\n",
    "\n",
    "# intialize and fit tfidf vectorizer\n",
    "tfidf_vec = CountVectorizer(**vec_params)\n",
    "tfidf_vec = tfidf_vec.fit(train_text)\n",
    "\n",
    "tf = tf_vectorizer.transform(train_text)\n",
    "\n",
    "lda = LatentDirichletAllocation(n_components=num_topics, \\\n",
    "                                max_iter=40,verbose=1,\n",
    "                                evaluate_every=1, n_jobs=1,\n",
    "                                random_state=0).fit(tf)\n",
    "\n",
    "# Generate topic assignment of each test document\n",
    "topic_assign = lda.transform(tf_vectorizer.transform(test_text))\n",
    "\n",
    "num_top_words = 30\n",
    "\n",
    "for topic_idx, topic in enumerate(lda.components_):\n",
    "    print (\"Topic %d:\" % (topic_idx))\n",
    "    # print out top 20 words per topic \n",
    "    words=[(tf_feature_names[i],'%.2f'%topic[i]) \\\n",
    "           for i in topic.argsort()[::-1][0:num_top_words]]\n",
    "    print(words)\n",
    "    print(\"\\n\")\n",
    "    \n",
    "predicted_topic = [topic.argmax() for topic in topic_assign]\n",
    "\n",
    "confusion_df = pd.DataFrame(list(zip(test_label.values, predicted_topic)), columns = [\"label\", \"cluster\"])\n",
    "# # use confusion matrix to map cluster id to true labels by majority vote\n",
    "cluster_labels = pd.crosstab( index=confusion_df.cluster, columns=confusion_df.label)\n",
    "cluster_dict = {i:cluster_labels.iloc[i].idxmax() for i in range(num_topics)}\n",
    "\n",
    "predicted_topic = [cluster_dict[topic] for topic in predicted_topic]\n",
    "\n",
    "best_report = metrics.classification_report(test_label.values, predicted_topic)\n",
    "print(best_report)\n",
    "\n"
   ]
  },
  {
   "cell_type": "code",
   "execution_count": 235,
   "metadata": {
    "scrolled": false
   },
   "outputs": [
    {
     "name": "stdout",
     "output_type": "stream",
     "text": [
      "iteration: 1 of max_iter: 40, perplexity: 2638.4599\n",
      "iteration: 2 of max_iter: 40, perplexity: 2434.2736\n",
      "iteration: 3 of max_iter: 40, perplexity: 2295.3304\n",
      "iteration: 4 of max_iter: 40, perplexity: 2216.1914\n",
      "iteration: 5 of max_iter: 40, perplexity: 2173.8186\n",
      "iteration: 6 of max_iter: 40, perplexity: 2148.6700\n",
      "iteration: 7 of max_iter: 40, perplexity: 2131.2777\n",
      "iteration: 8 of max_iter: 40, perplexity: 2117.2238\n",
      "iteration: 9 of max_iter: 40, perplexity: 2105.5370\n",
      "iteration: 10 of max_iter: 40, perplexity: 2094.4134\n",
      "iteration: 11 of max_iter: 40, perplexity: 2084.2570\n",
      "iteration: 12 of max_iter: 40, perplexity: 2074.8355\n",
      "iteration: 13 of max_iter: 40, perplexity: 2066.2665\n",
      "iteration: 14 of max_iter: 40, perplexity: 2058.4337\n",
      "iteration: 15 of max_iter: 40, perplexity: 2051.0637\n",
      "iteration: 16 of max_iter: 40, perplexity: 2044.8143\n",
      "iteration: 17 of max_iter: 40, perplexity: 2039.5670\n",
      "iteration: 18 of max_iter: 40, perplexity: 2035.0509\n",
      "iteration: 19 of max_iter: 40, perplexity: 2031.6297\n",
      "iteration: 20 of max_iter: 40, perplexity: 2028.5386\n",
      "iteration: 21 of max_iter: 40, perplexity: 2025.1590\n",
      "iteration: 22 of max_iter: 40, perplexity: 2022.6496\n",
      "iteration: 23 of max_iter: 40, perplexity: 2020.7868\n",
      "iteration: 24 of max_iter: 40, perplexity: 2019.3165\n",
      "iteration: 25 of max_iter: 40, perplexity: 2017.9847\n",
      "iteration: 26 of max_iter: 40, perplexity: 2016.6747\n",
      "iteration: 27 of max_iter: 40, perplexity: 2015.4021\n",
      "iteration: 28 of max_iter: 40, perplexity: 2014.3336\n",
      "iteration: 29 of max_iter: 40, perplexity: 2013.4929\n",
      "iteration: 30 of max_iter: 40, perplexity: 2012.7093\n",
      "iteration: 31 of max_iter: 40, perplexity: 2011.9736\n",
      "iteration: 32 of max_iter: 40, perplexity: 2011.3099\n",
      "iteration: 33 of max_iter: 40, perplexity: 2010.6635\n",
      "iteration: 34 of max_iter: 40, perplexity: 2010.0515\n",
      "iteration: 35 of max_iter: 40, perplexity: 2009.4950\n",
      "iteration: 36 of max_iter: 40, perplexity: 2008.9970\n",
      "iteration: 37 of max_iter: 40, perplexity: 2008.5869\n",
      "iteration: 38 of max_iter: 40, perplexity: 2008.1850\n",
      "iteration: 39 of max_iter: 40, perplexity: 2007.7143\n",
      "iteration: 40 of max_iter: 40, perplexity: 2007.2768\n",
      "Topic 0:\n",
      "[('forgot', '938.47'), ('friends', '559.53'), ('ground', '536.12'), ('invited', '480.16'), ('pulling', '428.70'), ('variety', '428.26'), ('nerve', '414.60'), ('temp', '404.75'), ('successful', '383.36'), ('limitations', '380.37'), ('mixing', '374.05'), ('wheat', '373.03'), ('cost', '366.43'), ('visitors', '358.43'), ('targets', '338.34'), ('vessels', '328.09'), ('origins', '322.65'), ('expected', '318.58'), ('access', '316.71'), ('wednesday', '307.91'), ('method', '300.47'), ('discipline', '287.30'), ('concerns', '279.19'), ('sick', '269.59'), ('touch', '256.69'), ('april', '254.22'), ('rule', '252.96'), ('fresh', '229.00'), ('effectively', '224.98'), ('declared', '224.10')]\n",
      "\n",
      "\n",
      "Topic 1:\n",
      "[('origins', '800.88'), ('french', '756.23'), ('wheat', '470.20'), ('nerve', '459.56'), ('targets', '383.47'), ('invited', '374.69'), ('knee', '336.79'), ('attacking', '290.89'), ('innocent', '274.25'), ('literally', '268.92'), ('revelation', '257.53'), ('automatically', '250.23'), ('linked', '246.90'), ('weighed', '241.18'), ('oz', '228.49'), ('lender', '220.64'), ('produces', '213.47'), ('temp', '200.37'), ('effectively', '189.66'), ('vessels', '186.70'), ('rule', '181.89'), ('rays', '181.25'), ('cat', '178.25'), ('access', '172.71'), ('targeted', '163.41'), ('molecule', '156.37'), ('tortured', '155.78'), ('friends', '154.47'), ('lost', '149.43'), ('pulling', '148.52')]\n",
      "\n",
      "\n",
      "Topic 2:\n",
      "[('heavenly', '515.22'), ('chest', '476.22'), ('wheat', '472.48'), ('willing', '415.22'), ('nerve', '353.94'), ('forgot', '353.87'), ('blowing', '286.24'), ('extremely', '271.52'), ('temp', '257.46'), ('meditation', '246.83'), ('mixing', '246.36'), ('invited', '232.78'), ('friends', '232.73'), ('variety', '221.53'), ('wednesday', '215.08'), ('produces', '214.46'), ('insist', '204.84'), ('hurricane', '193.90'), ('ground', '192.08'), ('access', '186.21'), ('contact', '183.25'), ('limitations', '177.77'), ('cigarette', '176.22'), ('directly', '175.62'), ('factors', '161.94'), ('drawn', '159.59'), ('win', '159.52'), ('method', '156.97'), ('org', '156.04'), ('concerns', '155.85')]\n",
      "\n",
      "\n",
      "Topic 3:\n",
      "[('verse', '368.57'), ('base', '277.48'), ('access', '231.37'), ('nerve', '222.90'), ('triggers', '219.60'), ('los', '215.27'), ('able', '184.74'), ('battle', '184.26'), ('play', '162.23'), ('traffic', '159.41'), ('wheat', '154.29'), ('building', '145.76'), ('boxes', '138.23'), ('literally', '122.87'), ('great', '120.24'), ('fly', '117.55'), ('bother', '113.04'), ('depends', '111.23'), ('movie', '110.71'), ('train', '109.17'), ('dedicated', '104.10'), ('builds', '102.22'), ('subjects', '102.22'), ('triggered', '100.39'), ('bureau', '99.24'), ('substances', '98.06'), ('mortgage', '96.11'), ('factors', '94.86'), ('guidelines', '93.76'), ('chemical', '89.64')]\n",
      "\n",
      "\n",
      "              precision    recall  f1-score   support\n",
      "\n",
      "           1       0.79      0.76      0.78       332\n",
      "           2       0.65      0.34      0.45       314\n",
      "           3       0.67      0.77      0.72       355\n",
      "           7       0.51      0.72      0.59       273\n",
      "\n",
      "    accuracy                           0.65      1274\n",
      "   macro avg       0.66      0.65      0.63      1274\n",
      "weighted avg       0.66      0.65      0.64      1274\n",
      "\n"
     ]
    }
   ],
   "source": [
    "cluster_lda(train_text, test_text, test_label)"
   ]
  },
  {
   "cell_type": "code",
   "execution_count": 23,
   "metadata": {
    "collapsed": true
   },
   "outputs": [
    {
     "name": "stdout",
     "output_type": "stream",
     "text": [
      "iteration: 1 of max_iter: 40, perplexity: 3432.5343\n",
      "iteration: 2 of max_iter: 40, perplexity: 3222.6374\n",
      "iteration: 3 of max_iter: 40, perplexity: 3072.9261\n",
      "iteration: 4 of max_iter: 40, perplexity: 2957.0211\n",
      "iteration: 5 of max_iter: 40, perplexity: 2872.0446\n",
      "iteration: 6 of max_iter: 40, perplexity: 2810.2180\n",
      "iteration: 7 of max_iter: 40, perplexity: 2764.0783\n",
      "iteration: 8 of max_iter: 40, perplexity: 2730.4502\n",
      "iteration: 9 of max_iter: 40, perplexity: 2704.3742\n",
      "iteration: 10 of max_iter: 40, perplexity: 2682.5403\n",
      "iteration: 11 of max_iter: 40, perplexity: 2665.2712\n",
      "iteration: 12 of max_iter: 40, perplexity: 2651.3919\n",
      "iteration: 13 of max_iter: 40, perplexity: 2639.9070\n",
      "iteration: 14 of max_iter: 40, perplexity: 2630.1797\n",
      "iteration: 15 of max_iter: 40, perplexity: 2621.6662\n",
      "iteration: 16 of max_iter: 40, perplexity: 2614.7582\n",
      "iteration: 17 of max_iter: 40, perplexity: 2608.6492\n",
      "iteration: 18 of max_iter: 40, perplexity: 2602.9612\n",
      "iteration: 19 of max_iter: 40, perplexity: 2597.3273\n",
      "iteration: 20 of max_iter: 40, perplexity: 2592.2029\n",
      "iteration: 21 of max_iter: 40, perplexity: 2587.1641\n",
      "iteration: 22 of max_iter: 40, perplexity: 2582.0479\n",
      "iteration: 23 of max_iter: 40, perplexity: 2577.0482\n",
      "iteration: 24 of max_iter: 40, perplexity: 2572.4995\n",
      "iteration: 25 of max_iter: 40, perplexity: 2568.3242\n",
      "iteration: 26 of max_iter: 40, perplexity: 2564.6204\n",
      "iteration: 27 of max_iter: 40, perplexity: 2561.2684\n",
      "iteration: 28 of max_iter: 40, perplexity: 2558.1236\n",
      "iteration: 29 of max_iter: 40, perplexity: 2555.2788\n",
      "iteration: 30 of max_iter: 40, perplexity: 2552.6727\n",
      "iteration: 31 of max_iter: 40, perplexity: 2550.1022\n",
      "iteration: 32 of max_iter: 40, perplexity: 2547.6365\n",
      "iteration: 33 of max_iter: 40, perplexity: 2545.2899\n",
      "iteration: 34 of max_iter: 40, perplexity: 2543.0016\n",
      "iteration: 35 of max_iter: 40, perplexity: 2540.8185\n",
      "iteration: 36 of max_iter: 40, perplexity: 2538.7860\n",
      "iteration: 37 of max_iter: 40, perplexity: 2536.7613\n",
      "iteration: 38 of max_iter: 40, perplexity: 2534.7783\n",
      "iteration: 39 of max_iter: 40, perplexity: 2532.6039\n",
      "iteration: 40 of max_iter: 40, perplexity: 2530.4435\n",
      "Topic 0:\n",
      "[('com', '476.23'), ('www', '375.23'), ('nhttp', '328.23'), ('business', '284.24'), ('money', '276.50'), ('good', '275.08'), ('job', '271.30'), ('want', '268.82'), ('need', '259.73'), ('work', '251.48'), ('help', '200.80'), ('like', '198.17'), ('know', '188.38'), ('http', '187.23'), ('pay', '180.33'), ('question', '174.94'), ('information', '174.22'), ('company', '172.23'), ('make', '169.89'), ('yahoo', '164.28')]\n",
      "\n",
      "\n",
      "Topic 1:\n",
      "[('blood', '279.49'), ('doctor', '275.23'), ('body', '230.80'), ('help', '185.72'), ('credit', '183.00'), ('pain', '179.18'), ('cause', '160.32'), ('used', '154.61'), ('health', '152.55'), ('does', '145.77'), ('skin', '143.09'), ('cancer', '138.24'), ('people', '125.90'), ('like', '123.87'), ('use', '119.14'), ('normal', '115.40'), ('medical', '115.35'), ('disease', '111.24'), ('test', '106.44'), ('taking', '100.44')]\n",
      "\n",
      "\n",
      "Topic 2:\n",
      "[('people', '1012.13'), ('just', '939.99'), ('like', '863.35'), ('know', '745.34'), ('god', '730.24'), ('don', '677.73'), ('think', '674.36'), ('time', '488.32'), ('really', '478.80'), ('life', '448.67'), ('want', '445.63'), ('say', '402.80'), ('good', '382.74'), ('way', '371.19'), ('feel', '348.22'), ('does', '321.12'), ('did', '318.96'), ('make', '315.04'), ('believe', '309.00'), ('things', '308.19')]\n",
      "\n",
      "\n",
      "Topic 3:\n",
      "[('water', '518.11'), ('weight', '377.20'), ('10', '257.48'), ('nthe', '242.75'), ('eat', '241.69'), ('energy', '240.39'), ('light', '217.76'), ('air', '217.21'), ('earth', '190.18'), ('diet', '181.51'), ('like', '178.62'), ('number', '176.40'), ('time', '174.62'), ('help', '169.40'), ('does', '167.42'), ('make', '158.79'), ('need', '153.07'), ('fat', '152.14'), ('mass', '147.23'), ('lose', '142.25')]\n",
      "\n",
      "\n",
      "              precision    recall  f1-score   support\n",
      "\n",
      "           1       0.57      0.91      0.70       332\n",
      "           2       0.73      0.64      0.68       314\n",
      "           3       0.82      0.44      0.57       355\n",
      "           7       0.72      0.73      0.72       273\n",
      "\n",
      "    accuracy                           0.67      1274\n",
      "   macro avg       0.71      0.68      0.67      1274\n",
      "weighted avg       0.71      0.67      0.66      1274\n",
      "\n"
     ]
    }
   ],
   "source": [
    "# ref\n",
    "cluster_lda(train_text, test_text, test_label)"
   ]
  },
  {
   "cell_type": "markdown",
   "metadata": {},
   "source": [
    "\n",
    "Based on the top words of each topic, could you assign a meaningful name to each topic? In other words, do you think your result can achieve intratopic coherence and intertopic separation?  \n",
    "\n",
    "No, this model did not work well in separating topic features. The words for each topic cluster do not have a clear coherence, such as having 'movie', 'chemical', and 'mortgage' in topic 3. There are also many shared words between topics with little semantic meaning such as 'wednesday'. \n",
    "\n",
    "Although the test subset shows there are 4 clusters, without this information, how do you choose the number of topics?\n",
    "Does your LDA model achieve better performance than KMeans or GMM? What do you think are the explanations?\n",
    "To choose the number of topics, the model was fit and trained with 4,5, and 6 topics. The model with the lowest perplexity was chosen to have the lowest amount of overfitting. The model did not perform as well as Kmeans or GMM, as the data has high complexity, and is not clearly linearly separated with many overlapping features, which is ideal for LDA which relies on linear independence in the dataset. "
   ]
  },
  {
   "cell_type": "markdown",
   "metadata": {},
   "source": [
    "## Q4: Word vectors\n",
    "\n",
    "In this task, we will try to use word vectors. Write a function `train_wordvec(docs, vector_size)` as follows:\n",
    "- This function will train word embeddings first. It take two inputs:\n",
    "    - `docs`: a list of documents\n",
    "    - `vector_size`: the dimension of word vectors\n",
    "- First tokenize `docs` into tokens, and remove punctuations. \n",
    "- Use `gensim` package to train word vectors. Set the `vector size` and also carefully set other parameters such as `window`, `min_count` etc.\n",
    "- Return the trained word vector model"
   ]
  },
  {
   "cell_type": "code",
   "execution_count": 10,
   "metadata": {},
   "outputs": [],
   "source": [
    "import pandas as pd\n",
    "import nltk,string\n",
    "from gensim.models import word2vec\n",
    "from sklearn.metrics import classification_report\n",
    "from sklearn.model_selection import train_test_split\n",
    "import gensim\n",
    "from sklearn import svm"
   ]
  },
  {
   "cell_type": "code",
   "execution_count": 2,
   "metadata": {},
   "outputs": [],
   "source": [
    "# Here we will use our previous chatgpt dataset\n",
    "data=pd.read_csv(\"detect.csv\")\n",
    "x_train,x_test,y_train,y_test=train_test_split(data[\"text\"],data[\"label\"],test_size=0.2,random_state=0)"
   ]
  },
  {
   "cell_type": "code",
   "execution_count": 3,
   "metadata": {},
   "outputs": [],
   "source": [
    "\n",
    "def train_wordvec(docs, vector_size):\n",
    "    # Tokenize docs into tokens and remove punctuations\n",
    "    documents = []\n",
    "    for doc in docs:\n",
    "        tokens = [word.strip(string.punctuation) for word in doc.lower().split()]\n",
    "        documents.append(tokens)\n",
    "\n",
    "    # Train word vectors using gensim package\n",
    "    model = gensim.models.Word2Vec(documents, vector_size=vector_size, window=5, min_count=1, workers=4)\n",
    "\n",
    "    return model\n"
   ]
  },
  {
   "cell_type": "code",
   "execution_count": 7,
   "metadata": {},
   "outputs": [],
   "source": [
    "# use function\n",
    "wv_model = train_wordvec(x_train, vector_size = 300)"
   ]
  },
  {
   "cell_type": "markdown",
   "metadata": {},
   "source": [
    "Next, write a function `generate_doc_vector(docs, wv_model)` as follows:\n",
    "- Take two inputs:\n",
    "    - `docs`: a list of documents, \n",
    "    - `wv_model`: trained word vector model. \n",
    "- First tokenize each document `doc` in `docs` into tokens\n",
    "- For each token in `doc`, look up for its word vector in `wv_model`. Then the document vector (denoted as `d`) of `doc` can be calculated as the `mean of the word vectors of its tokens`, i.e. $d = \\frac{\\sum_{i \\in doc}{v_i}}{|doc|}$, where $v_i$ is the word vector of the i-th token. (As we discussed, this is not an ideal way of dealing with word vectors and a lot of information is lost in such compression.)\n",
    "- Return the vector representations `vectors` of all `docs` as a numpy array of shape `(n, vector_size)`, where `n` is the number of documents in `docs` and `vector_size` is the dimension of word vectors.\n",
    "- Finally fit a SVM model and show the performance. Recall your models in HW5. Please explain the difference of your models. \n"
   ]
  },
  {
   "cell_type": "code",
   "execution_count": 8,
   "metadata": {},
   "outputs": [],
   "source": [
    "def generate_doc_vector(docs, wv_model):\n",
    "    # Tokenize each document into tokens\n",
    "    tokenized_docs = []\n",
    "    for doc in docs:\n",
    "        tokens = [word.strip(string.punctuation) for word in doc.lower().split()]\n",
    "        tokenized_docs.append(tokens)\n",
    "\n",
    "    # Generate document vectors\n",
    "    doc_vectors = []\n",
    "    for doc in tokenized_docs:\n",
    "        vectors = [wv_model.wv[token] for token in doc if token in wv_model.wv]\n",
    "        if len(vectors) > 0:\n",
    "            doc_vector = np.mean(vectors, axis=0)\n",
    "        else:\n",
    "            doc_vector = np.zeros(wv_model.vector_size)\n",
    "        doc_vectors.append(doc_vector)\n",
    "\n",
    "    vectors = np.array(doc_vectors)\n",
    "    # Return document vectors as a numpy array\n",
    "    return vectors"
   ]
  },
  {
   "cell_type": "code",
   "execution_count": 16,
   "metadata": {},
   "outputs": [
    {
     "data": {
      "text/plain": [
       "(16000, 300)"
      ]
     },
     "execution_count": 16,
     "metadata": {},
     "output_type": "execute_result"
    }
   ],
   "source": [
    "train_vec.shape"
   ]
  },
  {
   "cell_type": "code",
   "execution_count": 36,
   "metadata": {},
   "outputs": [
    {
     "name": "stdout",
     "output_type": "stream",
     "text": [
      "              precision    recall  f1-score   support\n",
      "\n",
      "           0       0.83      0.66      0.73      1966\n",
      "           1       0.72      0.87      0.79      2034\n",
      "\n",
      "    accuracy                           0.77      4000\n",
      "   macro avg       0.78      0.77      0.76      4000\n",
      "weighted avg       0.78      0.77      0.76      4000\n",
      "\n"
     ]
    }
   ],
   "source": [
    "# choose classification model and add hyperparams\n",
    "model= svm.LinearSVC(C=0.5,dual=False,tol=0.1)\n",
    "\n",
    "# fit svm model with training data\n",
    "model.fit(train_vec, y_train)\n",
    "\n",
    "# predict test set output and get class probability\n",
    "bin_preds = model.predict(test_vec)\n",
    "pred_scores = model.decision_function(test_vec)\n",
    "\n",
    "# Use the trained model to predict test data\n",
    "y_pred = model.predict(test_vec)\n",
    "\n",
    "# Evaluate the performance of the model using classification report\n",
    "print(classification_report(y_test, y_pred))\n"
   ]
  },
  {
   "cell_type": "code",
   "execution_count": 59,
   "metadata": {
    "collapsed": true
   },
   "outputs": [
    {
     "name": "stdout",
     "output_type": "stream",
     "text": [
      "              precision    recall  f1-score   support\n",
      "\n",
      "           0       0.86      0.75      0.80      1966\n",
      "           1       0.78      0.88      0.83      2034\n",
      "\n",
      "    accuracy                           0.82      4000\n",
      "   macro avg       0.82      0.82      0.82      4000\n",
      "weighted avg       0.82      0.82      0.82      4000\n",
      "\n"
     ]
    }
   ],
   "source": [
    "# now fit a svm model\n",
    "# ref\n",
    "from sklearn import svm\n",
    "\n",
    "\n",
    "\n"
   ]
  },
  {
   "cell_type": "markdown",
   "metadata": {},
   "source": [
    "In homework 5, the SVM model performed very well, with accuracy and precision both over 90%. This is due to the lower interdependence of features making it easier to linearly separate them. While the SVM model for HW 6 performed well, the high amount of similar features between text vectors making it difficult to achieve linear separation. Combining the SVM with kernels can improve performance by analyzing data in higher dimensions so boundaries can be better esimated."
   ]
  },
  {
   "cell_type": "markdown",
   "metadata": {},
   "source": [
    "## Bonus: Can you beat your prior models? How did you achieve that?"
   ]
  },
  {
   "cell_type": "code",
   "execution_count": null,
   "metadata": {},
   "outputs": [],
   "source": []
  }
 ],
 "metadata": {
  "kernelspec": {
   "display_name": "Python 3 (ipykernel)",
   "language": "python",
   "name": "python3"
  },
  "language_info": {
   "codemirror_mode": {
    "name": "ipython",
    "version": 3
   },
   "file_extension": ".py",
   "mimetype": "text/x-python",
   "name": "python",
   "nbconvert_exporter": "python",
   "pygments_lexer": "ipython3",
   "version": "3.10.9"
  }
 },
 "nbformat": 4,
 "nbformat_minor": 2
}
