{
 "cells": [
  {
   "cell_type": "markdown",
   "metadata": {},
   "source": [
    "# Homework 0: apply for a Twitter developer account"
   ]
  },
  {
   "cell_type": "markdown",
   "metadata": {},
   "source": [
    "This is a small assignment that prepares you for data retrieval in the coming weeks. Please apply for a Twitter developer account here https://developer.twitter.com/en/support/twitter-api/developer-account.  When you have the account information, you may run the following codes to generate a document. You may remove the accoount information when uploading the assignment. "
   ]
  },
  {
   "cell_type": "code",
   "execution_count": null,
   "metadata": {},
   "outputs": [],
   "source": [
    "import tweepy as tw\n",
    "import pandas as pd\n",
    "import csv"
   ]
  },
  {
   "cell_type": "code",
   "execution_count": 4,
   "metadata": {},
   "outputs": [],
   "source": [
    "# https://docs.tweepy.org/en/stable/auth_tutorial.html\n",
    "\n",
    "CONSUMER_KEY='kin4zLix2iJIxRs20TlSyAYV1'\n",
    "CONSUMER_SECRET='g3iQNXcqNupnCPFLW4eAYqFlyqIWBmGArsmpVCwwZIuZ18X3yT'\n",
    "ACCESS_KEY='1544713409245188097-pv7xoy0jyxbS1105t33mgVhlrWzrZO'\n",
    "ACCESS_SECRET='gcOVDhYqPziOTmHyeN88ZFBXYkisgprZV4Xbcia1uh7f5'\n",
    "\n",
    "BEARER_TOKEN = 'AAAAAAAAAAAAAAAAAAAAAGGzgAEAAAAAMmHhl59sTjBIJHqTvTSjuPOsnBg\\\n",
    "                %3DiS9TBfQKeEq1cn8e8OQjiBrDwEspXzmirABxJoKLtf8Wk8LjcH'\n",
    "\n",
    "auth=tweepy.OAuthHandler(CONSUMER_KEY,CONSUMER_SECRET)\n",
    "auth.set_access_token(ACCESS_KEY,ACCESS_SECRET)\n",
    "api=tweepy.API(auth)"
   ]
  },
  {
   "cell_type": "code",
   "execution_count": 5,
   "metadata": {},
   "outputs": [],
   "source": [
    "def get_all_tweets(user_name):\n",
    "    \n",
    "    alltweets=[]\n",
    "    new_tweets=api.user_timeline(screen_name = user_name, count=200)\n",
    "    # since my account is old, there may be syntax difference, here you may need screen_name=user_name\n",
    "    alltweets.extend(new_tweets)\n",
    "    \n",
    "    outtweets = [[tweet.id_str, tweet.user.name, tweet.created_at, \n",
    "                  tweet.text.encode(\"utf-8\")] for tweet in alltweets]\n",
    "            \n",
    "    with open('%s_tweet.csv' % user_name,'w') as outputfile: \n",
    "        writer=csv.writer(outputfile)\n",
    "        writer.writerow([\"id\",\"user_name\",\"created_at\",\"text\"])\n",
    "        writer.writerows(outtweets)\n",
    "    pass"
   ]
  },
  {
   "cell_type": "code",
   "execution_count": 6,
   "metadata": {},
   "outputs": [],
   "source": [
    "if __name__ == '__main__':\n",
    "    get_all_tweets(\"KelloggCompany\")"
   ]
  }
 ],
 "metadata": {
  "kernelspec": {
   "display_name": "Python 3 (ipykernel)",
   "language": "python",
   "name": "python3"
  },
  "language_info": {
   "codemirror_mode": {
    "name": "ipython",
    "version": 3
   },
   "file_extension": ".py",
   "mimetype": "text/x-python",
   "name": "python",
   "nbconvert_exporter": "python",
   "pygments_lexer": "ipython3",
   "version": "3.10.9"
  }
 },
 "nbformat": 4,
 "nbformat_minor": 4
}
